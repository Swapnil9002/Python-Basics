{
  "nbformat": 4,
  "nbformat_minor": 0,
  "metadata": {
    "colab": {
      "provenance": []
    },
    "kernelspec": {
      "name": "python3",
      "display_name": "Python 3"
    },
    "language_info": {
      "name": "python"
    }
  },
  "cells": [
    {
      "cell_type": "markdown",
      "source": [
        "#Python Basics"
      ],
      "metadata": {
        "id": "x01BfA6AdJzn"
      }
    },
    {
      "cell_type": "markdown",
      "source": [
        "1. What is Python, and why is it popular?\n",
        "   - Python is a programming language known for its simplicity and readability. It is popular due to its vast libraries, ease of learning, and versatility in web development, data science, automation, and more."
      ],
      "metadata": {
        "id": "UBMlwGGddlyh"
      }
    },
    {
      "cell_type": "markdown",
      "source": [
        "2. What is an interpreter in Python?\n",
        "    - An interpreter reads and executes Python code line by line, converting it into machine-readable instructions."
      ],
      "metadata": {
        "id": "zjwinda9f_W6"
      }
    },
    {
      "cell_type": "markdown",
      "source": [
        " 3. What are pre-defined keywords in Python?\n",
        "   - Keywords are reserved words in Python that have special meanings, such as if, else, while, def, etc.\n",
        "\n",
        "4. Can keywords be used as variable names?\n",
        "   - No, keywords cannot be used as variable names because they are reserved for specific language functions.\n",
        "\n",
        "5. What is mutability in Python?\n",
        "   - Mutability refers to whether an object's state can be modified after it is created. Mutable objects can be changed.\n",
        "\n",
        "6. Why are lists mutable, but tuples are immutable?\n",
        "   - Lists are designed to allow modifications like adding or removing items. Tuples are designed to be constant, ensuring their content remains unchanged.\n",
        "\n",
        "7. What is the difference between \"==\" and \"is\" operators in Python?\n",
        "   -  \"==\" checks for value equality & \"is checks for object identity.\n",
        "\n",
        "8. What are logical operators in Python?\n",
        "   - Logical operators include and, or, and not, used to combine conditional statements.\n",
        "\n",
        "9. What is type casting in Python?\n",
        "   - Type casting is converting a variable from one type to another.\n",
        "\n",
        "10. What is the difference between implicit and explicit type casting?\n",
        "   - Implicit casting is done automatically by Python & explicit casting is done manually using functions like int(), str(), etc.\n",
        "\n",
        "11. What is the purpose of conditional statements in Python?\n",
        "   - They control the flow of the program by executing different code blocks based on conditions (if, elif, else).\n",
        "\n",
        "12. How does the elif statement work?\n",
        "   - elif stands for \"else if\". It checks another condition if the previous if condition was false.\n",
        "\n",
        "13. What is the difference between for and while loops?\n",
        "   - A for loop is used when the number of iterations is known. A while loop is used when the loop should continue until a condition becomes false.\n",
        "\n",
        "14. Describe a scenario where a while loop is more suitable than a for loop.\n",
        "   - When the number of iterations is not known in advance, such as waiting for user input to meet a condition.\n",
        "   "
      ],
      "metadata": {
        "id": "iMe_TVWzheMT"
      }
    },
    {
      "cell_type": "markdown",
      "source": [
        "**Practical**\n"
      ],
      "metadata": {
        "id": "_WeISj0htSsX"
      }
    },
    {
      "cell_type": "code",
      "source": [
        "#  Write a Python program to print \"Hello, World!\n",
        "print(\"Hello World!\")\n",
        "\n"
      ],
      "metadata": {
        "colab": {
          "base_uri": "https://localhost:8080/"
        },
        "id": "6yc0h0YHDedS",
        "outputId": "dae8863f-ccd7-42ce-a11f-f2655f30bc82"
      },
      "execution_count": null,
      "outputs": [
        {
          "output_type": "stream",
          "name": "stdout",
          "text": [
            "Hello World!\n"
          ]
        }
      ]
    },
    {
      "cell_type": "code",
      "source": [
        "# Write a Python program that displays your name and age.\n",
        "name=\"Swapnil Mondal\"\n",
        "age= 23\n",
        "print(f\"My name is {name} and I am {age} years old.\")"
      ],
      "metadata": {
        "colab": {
          "base_uri": "https://localhost:8080/"
        },
        "id": "GPQD8G0mERyv",
        "outputId": "e3bd3c91-be58-4dea-e171-fa9e8207a779"
      },
      "execution_count": null,
      "outputs": [
        {
          "output_type": "stream",
          "name": "stdout",
          "text": [
            "My name is Swapnil Mondal and I am 23 years old.\n"
          ]
        }
      ]
    },
    {
      "cell_type": "code",
      "source": [
        "#Write code to print all the pre-defined keywords in Python using the keyword library.\n",
        "import keyword\n",
        "print(keyword.kwlist)"
      ],
      "metadata": {
        "id": "KcZ1U-17JfVN",
        "colab": {
          "base_uri": "https://localhost:8080/"
        },
        "outputId": "ecdab182-168b-404f-acb0-438dc7a096a7"
      },
      "execution_count": null,
      "outputs": [
        {
          "output_type": "stream",
          "name": "stdout",
          "text": [
            "['False', 'None', 'True', 'and', 'as', 'assert', 'async', 'await', 'break', 'class', 'continue', 'def', 'del', 'elif', 'else', 'except', 'finally', 'for', 'from', 'global', 'if', 'import', 'in', 'is', 'lambda', 'nonlocal', 'not', 'or', 'pass', 'raise', 'return', 'try', 'while', 'with', 'yield']\n"
          ]
        }
      ]
    },
    {
      "cell_type": "code",
      "source": [
        "#Write a program that checks if a given word is a Python keyword.\n",
        "import keyword\n",
        "word = input(\"manjulika: \")\n",
        "if keyword.iskeyword(word):\n",
        "    print(f\"{word} is a Python keyword.\")\n",
        "else:\n",
        "    print(f\"{word} is not a Python keyword.\")"
      ],
      "metadata": {
        "colab": {
          "base_uri": "https://localhost:8080/"
        },
        "id": "5kAXexZsMoAI",
        "outputId": "7fcbde59-edd6-437e-fb83-d8b5310bb1e2"
      },
      "execution_count": null,
      "outputs": [
        {
          "output_type": "stream",
          "name": "stdout",
          "text": [
            "manjulika: manjulika\n",
            "manjulika is not a Python keyword.\n"
          ]
        }
      ]
    },
    {
      "cell_type": "code",
      "source": [
        "#Create a list and tuple in Python, and demonstrate how attempting to change an element works differently for each.\n",
        "my_list = [1, 2, 3]\n",
        "print(my_list)\n",
        "\n",
        "mytuple = tuple(my_list)\n",
        "\n",
        "print(\"Tuple =\",mytuple)\n",
        "\n"
      ],
      "metadata": {
        "colab": {
          "base_uri": "https://localhost:8080/"
        },
        "id": "7A1V0Ud2NwUs",
        "outputId": "87fe0b3a-ba4b-4a81-bd92-15b6d4b9598e"
      },
      "execution_count": null,
      "outputs": [
        {
          "output_type": "stream",
          "name": "stdout",
          "text": [
            "[1, 2, 3]\n",
            "Tuple = (1, 2, 3)\n"
          ]
        }
      ]
    },
    {
      "cell_type": "code",
      "source": [
        "#Write a function to demonstrate the behavior of mutable and immutable arguments\n",
        "def demo_args(immutable, mutable):\n",
        "    print(f\"\\nInside function (before):\")\n",
        "    print(f\"Immutable: {immutable} (id: {id(immutable)})\")\n",
        "    print(f\"Mutable: {mutable} (id: {id(mutable)})\")\n",
        "    immutable += 1\n",
        "    mutable.append(4)\n",
        "\n",
        "    print(f\"\\nInside function (after):\")\n",
        "    print(f\"Immutable: {immutable} (id: {id(immutable)})\")\n",
        "    print(f\"Mutable: {mutable} (id: {id(mutable)})\")\n",
        "\n",
        "x = 10          # int (immutable)\n",
        "y = [1, 2, 3]   # list (mutable)\n",
        "\n",
        "print(\"Before:\", x, id(x), y, id(y))\n",
        "demo_args(x, y)\n",
        "print(\"After:\", x, id(x), y, id(y))"
      ],
      "metadata": {
        "colab": {
          "base_uri": "https://localhost:8080/"
        },
        "id": "v-GX57GYay1t",
        "outputId": "254800bf-cce6-4cf2-abb6-6a8d48d4f0ba"
      },
      "execution_count": null,
      "outputs": [
        {
          "output_type": "stream",
          "name": "stdout",
          "text": [
            "Before: 10 10751144 [1, 2, 3] 137215893482944\n",
            "\n",
            "Inside function (before):\n",
            "Immutable: 10 (id: 10751144)\n",
            "Mutable: [1, 2, 3] (id: 137215893482944)\n",
            "\n",
            "Inside function (after):\n",
            "Immutable: 11 (id: 10751176)\n",
            "Mutable: [1, 2, 3, 4] (id: 137215893482944)\n",
            "After: 10 10751144 [1, 2, 3, 4] 137215893482944\n"
          ]
        }
      ]
    },
    {
      "cell_type": "code",
      "source": [
        "#Write a program that performs basic arithmetic operations on two user-input numbers.\n",
        "a = float(input(\"First number: \"))\n",
        "b = float(input(\"Second number: \"))\n",
        "print(f\"{a} + {b} = {a+b}\")\n",
        "print(f\"{a} - {b} = {a-b}\")\n",
        "print(f\"{a} × {b} = {a*b}\")\n",
        "print(f\"{a} ÷ {b} = {a/b if b!=0 else 'Error'}\")"
      ],
      "metadata": {
        "colab": {
          "base_uri": "https://localhost:8080/"
        },
        "id": "YMOFDTQwbdIX",
        "outputId": "72c45dd4-05a6-4ff6-e5f7-84456f201f8b"
      },
      "execution_count": null,
      "outputs": [
        {
          "output_type": "stream",
          "name": "stdout",
          "text": [
            "First number: 1000\n",
            "Second number: 2000\n",
            "1000.0 + 2000.0 = 3000.0\n",
            "1000.0 - 2000.0 = -1000.0\n",
            "1000.0 × 2000.0 = 2000000.0\n",
            "1000.0 ÷ 2000.0 = 0.5\n"
          ]
        }
      ]
    },
    {
      "cell_type": "code",
      "source": [
        "#Write a program to demonstrate the use of logical operators.\n",
        "a, b = True, False\n",
        "\n",
        "print(\"AND:\", a and b)  # False\n",
        "print(\"OR:\", a or b)    # True\n",
        "print(\"NOT a:\", not a)  # False\n",
        "print(\"NOT b:\", not b)  # True\n",
        "\n",
        "age = 20\n",
        "print(\"Swapnil\", age >= 18 and True)  # True"
      ],
      "metadata": {
        "colab": {
          "base_uri": "https://localhost:8080/"
        },
        "id": "RbMq0rL_cQlT",
        "outputId": "4e85fdd4-c395-425c-d903-60b29c69898d"
      },
      "execution_count": null,
      "outputs": [
        {
          "output_type": "stream",
          "name": "stdout",
          "text": [
            "AND: False\n",
            "OR: True\n",
            "NOT a: False\n",
            "NOT b: True\n",
            "Swapnil True\n"
          ]
        }
      ]
    },
    {
      "cell_type": "code",
      "source": [
        "#Write a Python program to convert user input from string to integer, float, and boolean types\n",
        "value = input(\"Enter a value: \")\n",
        "\n",
        "# Convert to integer\n",
        "try:\n",
        "    int_val = int(value)\n",
        "    print(f\"Integer: {int_val}\")\n",
        "except ValueError:\n",
        "    print(\"Could not convert to integer\")\n",
        "\n",
        "# Convert to float\n",
        "try:\n",
        "    float_val = float(value)\n",
        "    print(f\"Float: {float_val}\")\n",
        "except ValueError:\n",
        "    print(\"Could not convert to float\")\n",
        "\n",
        "# Convert to boolean\n",
        "bool_val = value.lower() not in ('false', '0', 'no', '')\n",
        "print(f\"Boolean: {bool_val}\")"
      ],
      "metadata": {
        "colab": {
          "base_uri": "https://localhost:8080/"
        },
        "id": "pVSarfx5juMz",
        "outputId": "748e8131-4174-4919-dfe3-27aeb3057256"
      },
      "execution_count": null,
      "outputs": [
        {
          "output_type": "stream",
          "name": "stdout",
          "text": [
            "Enter a value: 10000\n",
            "Integer: 10000\n",
            "Float: 10000.0\n",
            "Boolean: True\n"
          ]
        }
      ]
    },
    {
      "cell_type": "code",
      "source": [
        "#Write code to demonstrate type casting with list elements\n",
        "\n",
        "\n",
        "mixed_list = ['123', '45.67', 'True', 'hello', '0', '3.14text']\n",
        "\n",
        "print(\"Original list:\", mixed_list)\n",
        "\n",
        "# Initialize lists for converted values\n",
        "int_list = []\n",
        "float_list = []\n",
        "bool_list = []\n",
        "\n",
        "for item in mixed_list:\n",
        "    # Try converting to integer\n",
        "    try:\n",
        "        int_val = int(item)\n",
        "        int_list.append(int_val)\n",
        "    except ValueError:\n",
        "        int_list.append(\"(conversion failed)\")\n",
        "\n",
        "    # Try converting to float\n",
        "    try:\n",
        "        float_val = float(item)\n",
        "        float_list.append(float_val)\n",
        "    except ValueError:\n",
        "        float_list.append(\"(conversion failed)\")\n",
        "\n",
        "    # Convert to boolean (special handling)\n",
        "    if item.lower() in ('true', '1', 'yes'):\n",
        "        bool_list.append(True)\n",
        "    elif item.lower() in ('false', '0', 'no', ''):\n",
        "        bool_list.append(False)\n",
        "    else:\n",
        "        bool_list.append(bool(item))\n",
        "\n",
        "print(\"\\nConverted to integers:\", int_list)\n",
        "print(\"Converted to floats:\", float_list)\n",
        "print(\"Converted to booleans:\", bool_list)"
      ],
      "metadata": {
        "colab": {
          "base_uri": "https://localhost:8080/"
        },
        "id": "Qgq0tAZAn04m",
        "outputId": "90c5fe6c-d8b9-4610-c80a-73c36d0923f7"
      },
      "execution_count": null,
      "outputs": [
        {
          "output_type": "stream",
          "name": "stdout",
          "text": [
            "Original list: ['123', '45.67', 'True', 'hello', '0', '3.14text']\n",
            "\n",
            "Converted to integers: [123, '(conversion failed)', '(conversion failed)', '(conversion failed)', 0, '(conversion failed)']\n",
            "Converted to floats: [123.0, 45.67, '(conversion failed)', '(conversion failed)', 0.0, '(conversion failed)']\n",
            "Converted to booleans: [True, True, True, True, False, True]\n"
          ]
        }
      ]
    },
    {
      "cell_type": "code",
      "source": [
        "#Write a program that checks if a number is positive, negative, or zero.\n",
        "# Get user input\n",
        "num = float(input(\"50:\"))\n",
        "\n",
        "# Check the number\n",
        "if num > 0:\n",
        "    print(\"Positive number\")\n",
        "elif num < 0:\n",
        "    print(\"Negative number\")\n",
        "else:\n",
        "    print(\"Zero\")"
      ],
      "metadata": {
        "colab": {
          "base_uri": "https://localhost:8080/"
        },
        "id": "WwU8MXaho-Sz",
        "outputId": "ed3e1875-82df-4f1c-fe06-92a8d553afc7"
      },
      "execution_count": null,
      "outputs": [
        {
          "output_type": "stream",
          "name": "stdout",
          "text": [
            "50:50\n",
            "Positive number\n"
          ]
        }
      ]
    },
    {
      "cell_type": "code",
      "source": [
        "#Write a for loop to print numbers from 1 to 10.\n",
        "for i in range(1, 11):\n",
        "    print(i)"
      ],
      "metadata": {
        "colab": {
          "base_uri": "https://localhost:8080/"
        },
        "id": "Cu4YQW4LpNo2",
        "outputId": "07086d69-d9d1-43a0-bbc0-c13294af6f24"
      },
      "execution_count": null,
      "outputs": [
        {
          "output_type": "stream",
          "name": "stdout",
          "text": [
            "1\n",
            "2\n",
            "3\n",
            "4\n",
            "5\n",
            "6\n",
            "7\n",
            "8\n",
            "9\n",
            "10\n"
          ]
        }
      ]
    },
    {
      "cell_type": "code",
      "source": [
        "# Write a Python program to find the sum of all even numbers between 1 and 50.\n",
        "total = sum(range(2, 51, 2))\n",
        "print(\"Sum of even numbers (1-50):\", total)"
      ],
      "metadata": {
        "colab": {
          "base_uri": "https://localhost:8080/"
        },
        "id": "J3-VmMIwp7_1",
        "outputId": "b96ded77-e9cd-4711-8f9c-5b379af01182"
      },
      "execution_count": null,
      "outputs": [
        {
          "output_type": "stream",
          "name": "stdout",
          "text": [
            "Sum of even numbers (1-50): 650\n"
          ]
        }
      ]
    },
    {
      "cell_type": "code",
      "source": [
        "# Write a program to reverse a string using a while loop.\n",
        "text = input(\"Manjulika:\")\n",
        "reversed_text = \"\"\n",
        "index = len(text) - 1\n",
        "\n",
        "while index >= 0:\n",
        "    reversed_text += text[index]\n",
        "    index -= 1\n",
        "\n",
        "print(\"Reversed string:\", reversed_text)"
      ],
      "metadata": {
        "colab": {
          "base_uri": "https://localhost:8080/"
        },
        "id": "KN7m5TVoqIi2",
        "outputId": "958a936e-79e1-4d30-a5b2-aea30d1ae2de"
      },
      "execution_count": null,
      "outputs": [
        {
          "output_type": "stream",
          "name": "stdout",
          "text": [
            "Manjulika:manjulika\n",
            "Reversed string: akilujnam\n"
          ]
        }
      ]
    },
    {
      "cell_type": "code",
      "source": [
        "#Write a Python program to calculate the factorial of a number provided by the user using a while loop.\n",
        "\n",
        "while True:\n",
        "    try:\n",
        "        num = int(input(\"25: \"))\n",
        "        if num >= 0:\n",
        "            break\n",
        "        else:\n",
        "            print(\"Please enter a non-negative integer.\")\n",
        "    except ValueError:\n",
        "        print(\"Invalid input. Please enter an integer.\")\n",
        "\n",
        "factorial = 1\n",
        "i = 1\n",
        "while i <= num:\n",
        "    factorial *= i\n",
        "    i += 1\n",
        "\n",
        "print(f\"The factorial of {num} is: {factorial}\")"
      ],
      "metadata": {
        "colab": {
          "base_uri": "https://localhost:8080/"
        },
        "id": "hPq058tnsay7",
        "outputId": "03c85358-5010-40c1-c942-6cd3a9c31fcd"
      },
      "execution_count": null,
      "outputs": [
        {
          "output_type": "stream",
          "name": "stdout",
          "text": [
            "25: 25\n",
            "The factorial of 25 is: 15511210043330985984000000\n"
          ]
        }
      ]
    },
    {
      "cell_type": "code",
      "source": [],
      "metadata": {
        "id": "C6BTURh0s-J3"
      },
      "execution_count": null,
      "outputs": []
    }
  ]
}